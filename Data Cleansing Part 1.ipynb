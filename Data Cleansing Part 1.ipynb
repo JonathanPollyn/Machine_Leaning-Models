{
 "cells": [
  {
   "cell_type": "markdown",
   "id": "08cd3063",
   "metadata": {},
   "source": [
    "The notebook worked through various techniques to import data using Pandas. "
   ]
  },
  {
   "cell_type": "markdown",
   "id": "3c07b2c1",
   "metadata": {},
   "source": [
    "# Working with csv files"
   ]
  },
  {
   "cell_type": "code",
   "execution_count": 13,
   "id": "b40529bf",
   "metadata": {},
   "outputs": [],
   "source": [
    "# Importing the required libraries\n",
    "import pandas as pd \n",
    "import numpy as np\n",
    "\n",
    "#Optional features\n",
    "pd.options.display.float_format = '{:,.2f}'.format"
   ]
  },
  {
   "cell_type": "code",
   "execution_count": 14,
   "id": "8cf1ccc4",
   "metadata": {},
   "outputs": [
    {
     "data": {
      "text/plain": [
       "pandas.core.frame.DataFrame"
      ]
     },
     "execution_count": 14,
     "metadata": {},
     "output_type": "execute_result"
    }
   ],
   "source": [
    "# Load the data and parse a month and year \n",
    "landtemps_path = 'data/landtempssample.csv'\n",
    "landtemps_df = pd.read_csv(landtemps_path,parse_dates=[['month','year']])\n",
    "type(landtemps_df)"
   ]
  },
  {
   "cell_type": "code",
   "execution_count": 15,
   "id": "c3eb6db0",
   "metadata": {},
   "outputs": [
    {
     "data": {
      "text/html": [
       "<div>\n",
       "<style scoped>\n",
       "    .dataframe tbody tr th:only-of-type {\n",
       "        vertical-align: middle;\n",
       "    }\n",
       "\n",
       "    .dataframe tbody tr th {\n",
       "        vertical-align: top;\n",
       "    }\n",
       "\n",
       "    .dataframe thead th {\n",
       "        text-align: right;\n",
       "    }\n",
       "</style>\n",
       "<table border=\"1\" class=\"dataframe\">\n",
       "  <thead>\n",
       "    <tr style=\"text-align: right;\">\n",
       "      <th></th>\n",
       "      <th>month_year</th>\n",
       "      <th>locationid</th>\n",
       "      <th>temp</th>\n",
       "      <th>latitude</th>\n",
       "      <th>longitude</th>\n",
       "      <th>stnelev</th>\n",
       "      <th>station</th>\n",
       "      <th>countryid</th>\n",
       "      <th>country</th>\n",
       "    </tr>\n",
       "  </thead>\n",
       "  <tbody>\n",
       "    <tr>\n",
       "      <th>0</th>\n",
       "      <td>2000-04-01</td>\n",
       "      <td>USS0010K01S</td>\n",
       "      <td>5.27</td>\n",
       "      <td>39.90</td>\n",
       "      <td>-110.75</td>\n",
       "      <td>2,773.70</td>\n",
       "      <td>INDIAN_CANYON</td>\n",
       "      <td>US</td>\n",
       "      <td>United States</td>\n",
       "    </tr>\n",
       "    <tr>\n",
       "      <th>1</th>\n",
       "      <td>1940-05-01</td>\n",
       "      <td>CI000085406</td>\n",
       "      <td>18.04</td>\n",
       "      <td>-18.35</td>\n",
       "      <td>-70.33</td>\n",
       "      <td>58.00</td>\n",
       "      <td>ARICA</td>\n",
       "      <td>CI</td>\n",
       "      <td>Chile</td>\n",
       "    </tr>\n",
       "    <tr>\n",
       "      <th>2</th>\n",
       "      <td>2013-12-01</td>\n",
       "      <td>USC00036376</td>\n",
       "      <td>6.22</td>\n",
       "      <td>34.37</td>\n",
       "      <td>-91.12</td>\n",
       "      <td>61.00</td>\n",
       "      <td>SAINT_CHARLES</td>\n",
       "      <td>US</td>\n",
       "      <td>United States</td>\n",
       "    </tr>\n",
       "    <tr>\n",
       "      <th>3</th>\n",
       "      <td>1963-02-01</td>\n",
       "      <td>ASN00024002</td>\n",
       "      <td>22.93</td>\n",
       "      <td>-34.28</td>\n",
       "      <td>140.60</td>\n",
       "      <td>65.50</td>\n",
       "      <td>BERRI_IRRIGATION</td>\n",
       "      <td>AS</td>\n",
       "      <td>Australia</td>\n",
       "    </tr>\n",
       "    <tr>\n",
       "      <th>4</th>\n",
       "      <td>2001-11-01</td>\n",
       "      <td>ASN00028007</td>\n",
       "      <td>NaN</td>\n",
       "      <td>-14.78</td>\n",
       "      <td>143.50</td>\n",
       "      <td>79.40</td>\n",
       "      <td>MUSGRAVE</td>\n",
       "      <td>AS</td>\n",
       "      <td>Australia</td>\n",
       "    </tr>\n",
       "    <tr>\n",
       "      <th>5</th>\n",
       "      <td>1991-04-01</td>\n",
       "      <td>USW00024151</td>\n",
       "      <td>5.59</td>\n",
       "      <td>42.15</td>\n",
       "      <td>-112.29</td>\n",
       "      <td>1,362.50</td>\n",
       "      <td>MALAD_CITY</td>\n",
       "      <td>US</td>\n",
       "      <td>United States</td>\n",
       "    </tr>\n",
       "    <tr>\n",
       "      <th>6</th>\n",
       "      <td>1993-12-01</td>\n",
       "      <td>RSM00022641</td>\n",
       "      <td>-10.17</td>\n",
       "      <td>63.90</td>\n",
       "      <td>38.12</td>\n",
       "      <td>13.00</td>\n",
       "      <td>ONEGA</td>\n",
       "      <td>RS</td>\n",
       "      <td>Russia</td>\n",
       "    </tr>\n",
       "  </tbody>\n",
       "</table>\n",
       "</div>"
      ],
      "text/plain": [
       "  month_year   locationid   temp  latitude  longitude  stnelev           station countryid        country\n",
       "0 2000-04-01  USS0010K01S   5.27     39.90    -110.75 2,773.70     INDIAN_CANYON        US  United States\n",
       "1 1940-05-01  CI000085406  18.04    -18.35     -70.33    58.00             ARICA        CI          Chile\n",
       "2 2013-12-01  USC00036376   6.22     34.37     -91.12    61.00     SAINT_CHARLES        US  United States\n",
       "3 1963-02-01  ASN00024002  22.93    -34.28     140.60    65.50  BERRI_IRRIGATION        AS      Australia\n",
       "4 2001-11-01  ASN00028007    NaN    -14.78     143.50    79.40          MUSGRAVE        AS      Australia\n",
       "5 1991-04-01  USW00024151   5.59     42.15    -112.29 1,362.50        MALAD_CITY        US  United States\n",
       "6 1993-12-01  RSM00022641 -10.17     63.90      38.12    13.00             ONEGA        RS         Russia"
      ]
     },
     "execution_count": 15,
     "metadata": {},
     "output_type": "execute_result"
    }
   ],
   "source": [
    "# View the first few columns\n",
    "landtemps_df.head(7)"
   ]
  },
  {
   "cell_type": "code",
   "execution_count": 16,
   "id": "8dad4d66",
   "metadata": {},
   "outputs": [
    {
     "data": {
      "text/html": [
       "<div>\n",
       "<style scoped>\n",
       "    .dataframe tbody tr th:only-of-type {\n",
       "        vertical-align: middle;\n",
       "    }\n",
       "\n",
       "    .dataframe tbody tr th {\n",
       "        vertical-align: top;\n",
       "    }\n",
       "\n",
       "    .dataframe thead th {\n",
       "        text-align: right;\n",
       "    }\n",
       "</style>\n",
       "<table border=\"1\" class=\"dataframe\">\n",
       "  <thead>\n",
       "    <tr style=\"text-align: right;\">\n",
       "      <th></th>\n",
       "      <th>datemeasured</th>\n",
       "      <th>locationid</th>\n",
       "      <th>temp</th>\n",
       "      <th>latitude</th>\n",
       "      <th>longitude</th>\n",
       "      <th>stnelev</th>\n",
       "      <th>station</th>\n",
       "      <th>countryid</th>\n",
       "      <th>country</th>\n",
       "    </tr>\n",
       "  </thead>\n",
       "  <tbody>\n",
       "    <tr>\n",
       "      <th>0</th>\n",
       "      <td>2000-04-01</td>\n",
       "      <td>USS0010K01S</td>\n",
       "      <td>5.27</td>\n",
       "      <td>39.90</td>\n",
       "      <td>-110.75</td>\n",
       "      <td>2,773.70</td>\n",
       "      <td>INDIAN_CANYON</td>\n",
       "      <td>US</td>\n",
       "      <td>United States</td>\n",
       "    </tr>\n",
       "    <tr>\n",
       "      <th>1</th>\n",
       "      <td>1940-05-01</td>\n",
       "      <td>CI000085406</td>\n",
       "      <td>18.04</td>\n",
       "      <td>-18.35</td>\n",
       "      <td>-70.33</td>\n",
       "      <td>58.00</td>\n",
       "      <td>ARICA</td>\n",
       "      <td>CI</td>\n",
       "      <td>Chile</td>\n",
       "    </tr>\n",
       "    <tr>\n",
       "      <th>2</th>\n",
       "      <td>2013-12-01</td>\n",
       "      <td>USC00036376</td>\n",
       "      <td>6.22</td>\n",
       "      <td>34.37</td>\n",
       "      <td>-91.12</td>\n",
       "      <td>61.00</td>\n",
       "      <td>SAINT_CHARLES</td>\n",
       "      <td>US</td>\n",
       "      <td>United States</td>\n",
       "    </tr>\n",
       "    <tr>\n",
       "      <th>3</th>\n",
       "      <td>1963-02-01</td>\n",
       "      <td>ASN00024002</td>\n",
       "      <td>22.93</td>\n",
       "      <td>-34.28</td>\n",
       "      <td>140.60</td>\n",
       "      <td>65.50</td>\n",
       "      <td>BERRI_IRRIGATION</td>\n",
       "      <td>AS</td>\n",
       "      <td>Australia</td>\n",
       "    </tr>\n",
       "    <tr>\n",
       "      <th>4</th>\n",
       "      <td>2001-11-01</td>\n",
       "      <td>ASN00028007</td>\n",
       "      <td>NaN</td>\n",
       "      <td>-14.78</td>\n",
       "      <td>143.50</td>\n",
       "      <td>79.40</td>\n",
       "      <td>MUSGRAVE</td>\n",
       "      <td>AS</td>\n",
       "      <td>Australia</td>\n",
       "    </tr>\n",
       "  </tbody>\n",
       "</table>\n",
       "</div>"
      ],
      "text/plain": [
       "  datemeasured   locationid  temp  latitude  longitude  stnelev           station countryid        country\n",
       "0   2000-04-01  USS0010K01S  5.27     39.90    -110.75 2,773.70     INDIAN_CANYON        US  United States\n",
       "1   1940-05-01  CI000085406 18.04    -18.35     -70.33    58.00             ARICA        CI          Chile\n",
       "2   2013-12-01  USC00036376  6.22     34.37     -91.12    61.00     SAINT_CHARLES        US  United States\n",
       "3   1963-02-01  ASN00024002 22.93    -34.28     140.60    65.50  BERRI_IRRIGATION        AS      Australia\n",
       "4   2001-11-01  ASN00028007   NaN    -14.78     143.50    79.40          MUSGRAVE        AS      Australia"
      ]
     },
     "execution_count": 16,
     "metadata": {},
     "output_type": "execute_result"
    }
   ],
   "source": [
    "# rename the month_year column to datemeasured\n",
    "landtemps_df.rename(columns={'month_year':'datemeasured'}, inplace=True)\n",
    "landtemps_df.head()"
   ]
  },
  {
   "cell_type": "code",
   "execution_count": 17,
   "id": "238a8a49",
   "metadata": {},
   "outputs": [
    {
     "data": {
      "text/plain": [
       "datemeasured    datetime64[ns]\n",
       "locationid              object\n",
       "temp                   float64\n",
       "latitude               float64\n",
       "longitude              float64\n",
       "stnelev                float64\n",
       "station                 object\n",
       "countryid               object\n",
       "country                 object\n",
       "dtype: object"
      ]
     },
     "execution_count": 17,
     "metadata": {},
     "output_type": "execute_result"
    }
   ],
   "source": [
    "# Check the data types\n",
    "landtemps_df.dtypes"
   ]
  },
  {
   "cell_type": "code",
   "execution_count": 18,
   "id": "ab239042",
   "metadata": {},
   "outputs": [
    {
     "data": {
      "text/plain": [
       "100000"
      ]
     },
     "execution_count": 18,
     "metadata": {},
     "output_type": "execute_result"
    }
   ],
   "source": [
    "# Get the total number of rows\n",
    "landtemps_df.shape[0]"
   ]
  },
  {
   "cell_type": "code",
   "execution_count": 19,
   "id": "13583a8c",
   "metadata": {},
   "outputs": [
    {
     "data": {
      "text/plain": [
       "9"
      ]
     },
     "execution_count": 19,
     "metadata": {},
     "output_type": "execute_result"
    }
   ],
   "source": [
    "# Get the number of columns\n",
    "landtemps_df.shape[1]"
   ]
  },
  {
   "cell_type": "code",
   "execution_count": 20,
   "id": "d857f999",
   "metadata": {},
   "outputs": [
    {
     "data": {
      "text/html": [
       "<div>\n",
       "<style scoped>\n",
       "    .dataframe tbody tr th:only-of-type {\n",
       "        vertical-align: middle;\n",
       "    }\n",
       "\n",
       "    .dataframe tbody tr th {\n",
       "        vertical-align: top;\n",
       "    }\n",
       "\n",
       "    .dataframe thead th {\n",
       "        text-align: right;\n",
       "    }\n",
       "</style>\n",
       "<table border=\"1\" class=\"dataframe\">\n",
       "  <thead>\n",
       "    <tr style=\"text-align: right;\">\n",
       "      <th></th>\n",
       "      <th>temp</th>\n",
       "      <th>latitude</th>\n",
       "      <th>longitude</th>\n",
       "      <th>stnelev</th>\n",
       "    </tr>\n",
       "  </thead>\n",
       "  <tbody>\n",
       "    <tr>\n",
       "      <th>count</th>\n",
       "      <td>85,554.00</td>\n",
       "      <td>100,000.00</td>\n",
       "      <td>100,000.00</td>\n",
       "      <td>100,000.00</td>\n",
       "    </tr>\n",
       "    <tr>\n",
       "      <th>mean</th>\n",
       "      <td>10.92</td>\n",
       "      <td>35.08</td>\n",
       "      <td>-38.12</td>\n",
       "      <td>565.56</td>\n",
       "    </tr>\n",
       "    <tr>\n",
       "      <th>std</th>\n",
       "      <td>11.52</td>\n",
       "      <td>23.55</td>\n",
       "      <td>84.30</td>\n",
       "      <td>1,073.65</td>\n",
       "    </tr>\n",
       "    <tr>\n",
       "      <th>min</th>\n",
       "      <td>-70.70</td>\n",
       "      <td>-90.00</td>\n",
       "      <td>-179.98</td>\n",
       "      <td>-350.00</td>\n",
       "    </tr>\n",
       "    <tr>\n",
       "      <th>25%</th>\n",
       "      <td>3.46</td>\n",
       "      <td>33.19</td>\n",
       "      <td>-101.66</td>\n",
       "      <td>64.00</td>\n",
       "    </tr>\n",
       "    <tr>\n",
       "      <th>50%</th>\n",
       "      <td>12.22</td>\n",
       "      <td>40.79</td>\n",
       "      <td>-79.57</td>\n",
       "      <td>240.80</td>\n",
       "    </tr>\n",
       "    <tr>\n",
       "      <th>75%</th>\n",
       "      <td>19.57</td>\n",
       "      <td>47.42</td>\n",
       "      <td>17.53</td>\n",
       "      <td>644.70</td>\n",
       "    </tr>\n",
       "    <tr>\n",
       "      <th>max</th>\n",
       "      <td>39.95</td>\n",
       "      <td>82.52</td>\n",
       "      <td>179.75</td>\n",
       "      <td>9,999.00</td>\n",
       "    </tr>\n",
       "  </tbody>\n",
       "</table>\n",
       "</div>"
      ],
      "text/plain": [
       "           temp   latitude  longitude    stnelev\n",
       "count 85,554.00 100,000.00 100,000.00 100,000.00\n",
       "mean      10.92      35.08     -38.12     565.56\n",
       "std       11.52      23.55      84.30   1,073.65\n",
       "min      -70.70     -90.00    -179.98    -350.00\n",
       "25%        3.46      33.19    -101.66      64.00\n",
       "50%       12.22      40.79     -79.57     240.80\n",
       "75%       19.57      47.42      17.53     644.70\n",
       "max       39.95      82.52     179.75   9,999.00"
      ]
     },
     "execution_count": 20,
     "metadata": {},
     "output_type": "execute_result"
    }
   ],
   "source": [
    "# Get the statistical information on the data\n",
    "landtemps_df.describe()"
   ]
  },
  {
   "cell_type": "code",
   "execution_count": 22,
   "id": "8fc592f2",
   "metadata": {},
   "outputs": [
    {
     "data": {
      "text/plain": [
       "datemeasured        0\n",
       "locationid          0\n",
       "temp            14446\n",
       "latitude            0\n",
       "longitude           0\n",
       "stnelev             0\n",
       "station             0\n",
       "countryid           0\n",
       "country             5\n",
       "dtype: int64"
      ]
     },
     "execution_count": 22,
     "metadata": {},
     "output_type": "execute_result"
    }
   ],
   "source": [
    "# Check for missing values\n",
    "landtemps_df.isnull().sum()"
   ]
  },
  {
   "cell_type": "code",
   "execution_count": 26,
   "id": "37ea776d",
   "metadata": {},
   "outputs": [
    {
     "data": {
      "text/plain": [
       "datemeasured    0\n",
       "locationid      0\n",
       "temp            0\n",
       "latitude        0\n",
       "longitude       0\n",
       "stnelev         0\n",
       "station         0\n",
       "countryid       0\n",
       "country         2\n",
       "dtype: int64"
      ]
     },
     "execution_count": 26,
     "metadata": {},
     "output_type": "execute_result"
    }
   ],
   "source": [
    "# Removing the missing values on the temp column\n",
    "landtemps_df.dropna(subset=['temp'],inplace=True)\n",
    "landtemps_df.isnull().sum()"
   ]
  },
  {
   "cell_type": "markdown",
   "id": "21d4a789",
   "metadata": {},
   "source": [
    "# Working with excel"
   ]
  },
  {
   "cell_type": "code",
   "execution_count": 29,
   "id": "b4e20e84",
   "metadata": {},
   "outputs": [
    {
     "data": {
      "text/html": [
       "<div>\n",
       "<style scoped>\n",
       "    .dataframe tbody tr th:only-of-type {\n",
       "        vertical-align: middle;\n",
       "    }\n",
       "\n",
       "    .dataframe tbody tr th {\n",
       "        vertical-align: top;\n",
       "    }\n",
       "\n",
       "    .dataframe thead th {\n",
       "        text-align: right;\n",
       "    }\n",
       "</style>\n",
       "<table border=\"1\" class=\"dataframe\">\n",
       "  <thead>\n",
       "    <tr style=\"text-align: right;\">\n",
       "      <th></th>\n",
       "      <th>Our World in Data</th>\n",
       "    </tr>\n",
       "  </thead>\n",
       "  <tbody>\n",
       "    <tr>\n",
       "      <th>0</th>\n",
       "      <td>https://github.com/owid/covid-19-data/tree/mas...</td>\n",
       "    </tr>\n",
       "  </tbody>\n",
       "</table>\n",
       "</div>"
      ],
      "text/plain": [
       "                                  Our World in Data \n",
       "0  https://github.com/owid/covid-19-data/tree/mas..."
      ]
     },
     "execution_count": 29,
     "metadata": {},
     "output_type": "execute_result"
    }
   ],
   "source": [
    "gdpFilePath = 'data/GDPpercapita.xlsx'\n",
    "gdp_df = pd.read_excel(gdpFilePath)\n",
    "gdp_df.head()"
   ]
  },
  {
   "cell_type": "code",
   "execution_count": null,
   "id": "01d7e4b8",
   "metadata": {},
   "outputs": [],
   "source": []
  }
 ],
 "metadata": {
  "kernelspec": {
   "display_name": "Python 3 (ipykernel)",
   "language": "python",
   "name": "python3"
  },
  "language_info": {
   "codemirror_mode": {
    "name": "ipython",
    "version": 3
   },
   "file_extension": ".py",
   "mimetype": "text/x-python",
   "name": "python",
   "nbconvert_exporter": "python",
   "pygments_lexer": "ipython3",
   "version": "3.9.7"
  }
 },
 "nbformat": 4,
 "nbformat_minor": 5
}
